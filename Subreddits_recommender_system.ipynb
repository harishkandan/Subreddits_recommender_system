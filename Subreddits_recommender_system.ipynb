{
 "cells": [
  {
   "cell_type": "code",
   "execution_count": 1,
   "metadata": {
    "collapsed": true
   },
   "outputs": [],
   "source": [
    "from io import StringIO\n",
    "from io import BytesIO\n",
    "import requests\n",
    "import json\n",
    "import pandas as pd\n",
    "import numpy as np\n",
    "import itertools\n",
    "from datetime import datetime as dt\n",
    "from sklearn.metrics.pairwise import cosine_similarity"
   ]
  },
  {
   "cell_type": "code",
   "execution_count": 2,
   "metadata": {},
   "outputs": [
    {
     "data": {
      "text/html": [
       "<div>\n",
       "<table border=\"1\" class=\"dataframe\">\n",
       "  <thead>\n",
       "    <tr style=\"text-align: right;\">\n",
       "      <th></th>\n",
       "      <th>username</th>\n",
       "      <th>subreddit</th>\n",
       "      <th>utc</th>\n",
       "    </tr>\n",
       "  </thead>\n",
       "  <tbody>\n",
       "    <tr>\n",
       "      <th>0</th>\n",
       "      <td>kabanossi</td>\n",
       "      <td>photoshopbattles</td>\n",
       "      <td>1482747899</td>\n",
       "    </tr>\n",
       "    <tr>\n",
       "      <th>1</th>\n",
       "      <td>kabanossi</td>\n",
       "      <td>GetMotivated</td>\n",
       "      <td>1482747794</td>\n",
       "    </tr>\n",
       "    <tr>\n",
       "      <th>2</th>\n",
       "      <td>kabanossi</td>\n",
       "      <td>vmware</td>\n",
       "      <td>1482747676</td>\n",
       "    </tr>\n",
       "    <tr>\n",
       "      <th>3</th>\n",
       "      <td>kabanossi</td>\n",
       "      <td>carporn</td>\n",
       "      <td>1482747618</td>\n",
       "    </tr>\n",
       "    <tr>\n",
       "      <th>4</th>\n",
       "      <td>kabanossi</td>\n",
       "      <td>DIY</td>\n",
       "      <td>1482747479</td>\n",
       "    </tr>\n",
       "  </tbody>\n",
       "</table>\n",
       "</div>"
      ],
      "text/plain": [
       "    username         subreddit         utc\n",
       "0  kabanossi  photoshopbattles  1482747899\n",
       "1  kabanossi      GetMotivated  1482747794\n",
       "2  kabanossi            vmware  1482747676\n",
       "3  kabanossi           carporn  1482747618\n",
       "4  kabanossi               DIY  1482747479"
      ]
     },
     "execution_count": 2,
     "metadata": {},
     "output_type": "execute_result"
    }
   ],
   "source": [
    "# @hidden_cell\n",
    "# This function accesses a file in your Object Storage. The definition contains your credentials.\n",
    "# You might want to remove those credentials before you share your notebook.\n",
    "*****Credentials*****\n",
    "data = pd.read_csv(get_object_storage_file_with_credentials_9c051c366b95483f8eb41bf30eec97a7('DefaultProjectsaicolosseumtechcoin', 'reddit_data.csv'))\n",
    "data.head()"
   ]
  },
  {
   "cell_type": "code",
   "execution_count": 3,
   "metadata": {
    "collapsed": true,
    "scrolled": true
   },
   "outputs": [],
   "source": [
    "data['date'] = data['utc'].apply(lambda x: dt.fromtimestamp(x).date()) # Extracting date from utc"
   ]
  },
  {
   "cell_type": "code",
   "execution_count": 4,
   "metadata": {},
   "outputs": [
    {
     "data": {
      "text/html": [
       "<div>\n",
       "<table border=\"1\" class=\"dataframe\">\n",
       "  <thead>\n",
       "    <tr style=\"text-align: right;\">\n",
       "      <th></th>\n",
       "      <th>username</th>\n",
       "      <th>subreddit</th>\n",
       "      <th>utc</th>\n",
       "      <th>date</th>\n",
       "    </tr>\n",
       "  </thead>\n",
       "  <tbody>\n",
       "    <tr>\n",
       "      <th>0</th>\n",
       "      <td>kabanossi</td>\n",
       "      <td>photoshopbattles</td>\n",
       "      <td>1482747899</td>\n",
       "      <td>2016-12-26</td>\n",
       "    </tr>\n",
       "    <tr>\n",
       "      <th>1</th>\n",
       "      <td>kabanossi</td>\n",
       "      <td>GetMotivated</td>\n",
       "      <td>1482747794</td>\n",
       "      <td>2016-12-26</td>\n",
       "    </tr>\n",
       "    <tr>\n",
       "      <th>2</th>\n",
       "      <td>kabanossi</td>\n",
       "      <td>vmware</td>\n",
       "      <td>1482747676</td>\n",
       "      <td>2016-12-26</td>\n",
       "    </tr>\n",
       "    <tr>\n",
       "      <th>3</th>\n",
       "      <td>kabanossi</td>\n",
       "      <td>carporn</td>\n",
       "      <td>1482747618</td>\n",
       "      <td>2016-12-26</td>\n",
       "    </tr>\n",
       "    <tr>\n",
       "      <th>4</th>\n",
       "      <td>kabanossi</td>\n",
       "      <td>DIY</td>\n",
       "      <td>1482747479</td>\n",
       "      <td>2016-12-26</td>\n",
       "    </tr>\n",
       "  </tbody>\n",
       "</table>\n",
       "</div>"
      ],
      "text/plain": [
       "    username         subreddit         utc        date\n",
       "0  kabanossi  photoshopbattles  1482747899  2016-12-26\n",
       "1  kabanossi      GetMotivated  1482747794  2016-12-26\n",
       "2  kabanossi            vmware  1482747676  2016-12-26\n",
       "3  kabanossi           carporn  1482747618  2016-12-26\n",
       "4  kabanossi               DIY  1482747479  2016-12-26"
      ]
     },
     "execution_count": 4,
     "metadata": {},
     "output_type": "execute_result"
    }
   ],
   "source": [
    "data.head()"
   ]
  },
  {
   "cell_type": "code",
   "execution_count": 5,
   "metadata": {},
   "outputs": [
    {
     "data": {
      "text/html": [
       "<div>\n",
       "<table border=\"1\" class=\"dataframe\">\n",
       "  <thead>\n",
       "    <tr style=\"text-align: right;\">\n",
       "      <th></th>\n",
       "      <th>username</th>\n",
       "      <th>subreddit</th>\n",
       "      <th>utc</th>\n",
       "      <th>date</th>\n",
       "    </tr>\n",
       "  </thead>\n",
       "  <tbody>\n",
       "    <tr>\n",
       "      <th>13999995</th>\n",
       "      <td>RushNY</td>\n",
       "      <td>iOSthemes</td>\n",
       "      <td>1405371369</td>\n",
       "      <td>2014-07-14</td>\n",
       "    </tr>\n",
       "    <tr>\n",
       "      <th>13999996</th>\n",
       "      <td>RushNY</td>\n",
       "      <td>iOSthemes</td>\n",
       "      <td>1404528135</td>\n",
       "      <td>2014-07-04</td>\n",
       "    </tr>\n",
       "    <tr>\n",
       "      <th>13999997</th>\n",
       "      <td>RushNY</td>\n",
       "      <td>cars</td>\n",
       "      <td>1404229927</td>\n",
       "      <td>2014-07-01</td>\n",
       "    </tr>\n",
       "    <tr>\n",
       "      <th>13999998</th>\n",
       "      <td>RushNY</td>\n",
       "      <td>Toyota</td>\n",
       "      <td>1404143090</td>\n",
       "      <td>2014-06-30</td>\n",
       "    </tr>\n",
       "    <tr>\n",
       "      <th>13999999</th>\n",
       "      <td>RushNY</td>\n",
       "      <td>jailbreak</td>\n",
       "      <td>1404094741</td>\n",
       "      <td>2014-06-29</td>\n",
       "    </tr>\n",
       "  </tbody>\n",
       "</table>\n",
       "</div>"
      ],
      "text/plain": [
       "         username  subreddit         utc        date\n",
       "13999995   RushNY  iOSthemes  1405371369  2014-07-14\n",
       "13999996   RushNY  iOSthemes  1404528135  2014-07-04\n",
       "13999997   RushNY       cars  1404229927  2014-07-01\n",
       "13999998   RushNY     Toyota  1404143090  2014-06-30\n",
       "13999999   RushNY  jailbreak  1404094741  2014-06-29"
      ]
     },
     "execution_count": 5,
     "metadata": {},
     "output_type": "execute_result"
    }
   ],
   "source": [
    "data.tail()"
   ]
  },
  {
   "cell_type": "code",
   "execution_count": 6,
   "metadata": {},
   "outputs": [
    {
     "data": {
      "text/plain": [
       "22610"
      ]
     },
     "execution_count": 6,
     "metadata": {},
     "output_type": "execute_result"
    }
   ],
   "source": [
    "data['username'].nunique()"
   ]
  },
  {
   "cell_type": "code",
   "execution_count": 7,
   "metadata": {},
   "outputs": [
    {
     "data": {
      "text/plain": [
       "34967"
      ]
     },
     "execution_count": 7,
     "metadata": {},
     "output_type": "execute_result"
    }
   ],
   "source": [
    "data['subreddit'].nunique()"
   ]
  },
  {
   "cell_type": "markdown",
   "metadata": {},
   "source": [
    "users = set(data['username'])\n",
    "subreddits = set(data['subreddit'])"
   ]
  },
  {
   "cell_type": "markdown",
   "metadata": {},
   "source": [
    "# Outlier\n",
    "Users who've visited the site lesser times can be outliers. But they can very well also be new users. We thus decide to treat those users as outliers who haven't visited the site one year prior to the current date."
   ]
  },
  {
   "cell_type": "code",
   "execution_count": 8,
   "metadata": {
    "collapsed": true
   },
   "outputs": [],
   "source": [
    "data['year'] = data['date'].apply(lambda x: x.year)\n",
    "data_old = data[data['year'] != 2016]"
   ]
  },
  {
   "cell_type": "code",
   "execution_count": 9,
   "metadata": {
    "collapsed": true
   },
   "outputs": [],
   "source": [
    "outliers = data_old['username'].value_counts().sort_values()[:1109].index"
   ]
  },
  {
   "cell_type": "code",
   "execution_count": 10,
   "metadata": {
    "collapsed": true
   },
   "outputs": [],
   "source": [
    "data.drop('year', axis  = 1, inplace = True)"
   ]
  },
  {
   "cell_type": "code",
   "execution_count": 11,
   "metadata": {},
   "outputs": [
    {
     "data": {
      "text/plain": [
       "Index([u'AH-17_', u'dumbkid12', u'Northgates', u'Starlord_26', u'curious6789'], dtype='object')"
      ]
     },
     "execution_count": 11,
     "metadata": {},
     "output_type": "execute_result"
    }
   ],
   "source": [
    "outliers[:5]"
   ]
  },
  {
   "cell_type": "markdown",
   "metadata": {},
   "source": [
    "# Extracting 'weight' feature from utc.\n",
    "The reasoning here is that subreddits which were searched for years back probably would not have as much relevance as recently searched subreddits do. Thus we normalise the utc value to use it as a weight column"
   ]
  },
  {
   "cell_type": "code",
   "execution_count": 12,
   "metadata": {
    "collapsed": true
   },
   "outputs": [],
   "source": [
    "data['utc'] = data['utc'] - data['utc'].min() + 1"
   ]
  },
  {
   "cell_type": "code",
   "execution_count": 13,
   "metadata": {
    "collapsed": true
   },
   "outputs": [],
   "source": [
    "data['utc'] = data['utc'] / data['utc'].max()\n",
    "data.rename(columns = {'utc': 'weight'}, inplace = True)"
   ]
  },
  {
   "cell_type": "markdown",
   "metadata": {},
   "source": [
    "# Extracting user wise information\n",
    "This enables us to easily extract information about a user by indexing the username. "
   ]
  },
  {
   "cell_type": "code",
   "execution_count": 14,
   "metadata": {
    "collapsed": true
   },
   "outputs": [],
   "source": [
    "users_subreddits = pd.DataFrame(data.groupby(['username', 'subreddit'])['weight'].sum())"
   ]
  },
  {
   "cell_type": "code",
   "execution_count": 15,
   "metadata": {
    "scrolled": true
   },
   "outputs": [
    {
     "data": {
      "text/html": [
       "<div>\n",
       "<table border=\"1\" class=\"dataframe\">\n",
       "  <thead>\n",
       "    <tr style=\"text-align: right;\">\n",
       "      <th></th>\n",
       "      <th></th>\n",
       "      <th>weight</th>\n",
       "    </tr>\n",
       "    <tr>\n",
       "      <th>username</th>\n",
       "      <th>subreddit</th>\n",
       "      <th></th>\n",
       "    </tr>\n",
       "  </thead>\n",
       "  <tbody>\n",
       "    <tr>\n",
       "      <th rowspan=\"5\" valign=\"top\">--ANUSTART-</th>\n",
       "      <th>AOImmortals</th>\n",
       "      <td>1.957625</td>\n",
       "    </tr>\n",
       "    <tr>\n",
       "      <th>Addons4Kodi</th>\n",
       "      <td>0.904965</td>\n",
       "    </tr>\n",
       "    <tr>\n",
       "      <th>AdviceAnimals</th>\n",
       "      <td>6.469323</td>\n",
       "    </tr>\n",
       "    <tr>\n",
       "      <th>AskReddit</th>\n",
       "      <td>13.022203</td>\n",
       "    </tr>\n",
       "    <tr>\n",
       "      <th>Assistance</th>\n",
       "      <td>8.923811</td>\n",
       "    </tr>\n",
       "  </tbody>\n",
       "</table>\n",
       "</div>"
      ],
      "text/plain": [
       "                              weight\n",
       "username    subreddit               \n",
       "--ANUSTART- AOImmortals     1.957625\n",
       "            Addons4Kodi     0.904965\n",
       "            AdviceAnimals   6.469323\n",
       "            AskReddit      13.022203\n",
       "            Assistance      8.923811"
      ]
     },
     "execution_count": 15,
     "metadata": {},
     "output_type": "execute_result"
    }
   ],
   "source": [
    "users_subreddits.head()"
   ]
  },
  {
   "cell_type": "markdown",
   "metadata": {},
   "source": [
    "# Flattening the multi-index dataframe extracted above\n",
    "This gives us a clear comparision between every user"
   ]
  },
  {
   "cell_type": "code",
   "execution_count": 16,
   "metadata": {
    "collapsed": true
   },
   "outputs": [],
   "source": [
    "user_similarity_vectors = users_subreddits.unstack(level = -1)"
   ]
  },
  {
   "cell_type": "code",
   "execution_count": 17,
   "metadata": {},
   "outputs": [
    {
     "data": {
      "text/html": [
       "<div>\n",
       "<table border=\"1\" class=\"dataframe\">\n",
       "  <thead>\n",
       "    <tr>\n",
       "      <th></th>\n",
       "      <th colspan=\"21\" halign=\"left\">weight</th>\n",
       "    </tr>\n",
       "    <tr>\n",
       "      <th>subreddit</th>\n",
       "      <th>007</th>\n",
       "      <th>065_082_071</th>\n",
       "      <th>0ad</th>\n",
       "      <th>0x10c</th>\n",
       "      <th>0x3642</th>\n",
       "      <th>1000degreeknife</th>\n",
       "      <th>1000thworldproblems</th>\n",
       "      <th>100DayComicChallenge</th>\n",
       "      <th>100DaysofKeto</th>\n",
       "      <th>100kin</th>\n",
       "      <th>...</th>\n",
       "      <th>zorinos</th>\n",
       "      <th>zsh</th>\n",
       "      <th>zumba</th>\n",
       "      <th>zurich</th>\n",
       "      <th>zwave</th>\n",
       "      <th>zweiteliga</th>\n",
       "      <th>zxspectrum</th>\n",
       "      <th>zyramains</th>\n",
       "      <th>zyzz</th>\n",
       "      <th>zzt</th>\n",
       "    </tr>\n",
       "    <tr>\n",
       "      <th>username</th>\n",
       "      <th></th>\n",
       "      <th></th>\n",
       "      <th></th>\n",
       "      <th></th>\n",
       "      <th></th>\n",
       "      <th></th>\n",
       "      <th></th>\n",
       "      <th></th>\n",
       "      <th></th>\n",
       "      <th></th>\n",
       "      <th></th>\n",
       "      <th></th>\n",
       "      <th></th>\n",
       "      <th></th>\n",
       "      <th></th>\n",
       "      <th></th>\n",
       "      <th></th>\n",
       "      <th></th>\n",
       "      <th></th>\n",
       "      <th></th>\n",
       "      <th></th>\n",
       "    </tr>\n",
       "  </thead>\n",
       "  <tbody>\n",
       "    <tr>\n",
       "      <th>--ANUSTART-</th>\n",
       "      <td>0</td>\n",
       "      <td>0</td>\n",
       "      <td>0</td>\n",
       "      <td>0</td>\n",
       "      <td>0</td>\n",
       "      <td>0</td>\n",
       "      <td>0</td>\n",
       "      <td>0</td>\n",
       "      <td>0</td>\n",
       "      <td>0</td>\n",
       "      <td>...</td>\n",
       "      <td>0</td>\n",
       "      <td>0</td>\n",
       "      <td>0</td>\n",
       "      <td>0</td>\n",
       "      <td>0</td>\n",
       "      <td>0</td>\n",
       "      <td>0</td>\n",
       "      <td>0</td>\n",
       "      <td>0</td>\n",
       "      <td>0</td>\n",
       "    </tr>\n",
       "    <tr>\n",
       "      <th>--Sko--</th>\n",
       "      <td>0</td>\n",
       "      <td>0</td>\n",
       "      <td>0</td>\n",
       "      <td>0</td>\n",
       "      <td>0</td>\n",
       "      <td>0</td>\n",
       "      <td>0</td>\n",
       "      <td>0</td>\n",
       "      <td>0</td>\n",
       "      <td>0</td>\n",
       "      <td>...</td>\n",
       "      <td>0</td>\n",
       "      <td>0</td>\n",
       "      <td>0</td>\n",
       "      <td>0</td>\n",
       "      <td>0</td>\n",
       "      <td>0</td>\n",
       "      <td>0</td>\n",
       "      <td>0</td>\n",
       "      <td>0</td>\n",
       "      <td>0</td>\n",
       "    </tr>\n",
       "    <tr>\n",
       "      <th>--UNKN0WN--</th>\n",
       "      <td>0</td>\n",
       "      <td>0</td>\n",
       "      <td>0</td>\n",
       "      <td>0</td>\n",
       "      <td>0</td>\n",
       "      <td>0</td>\n",
       "      <td>0</td>\n",
       "      <td>0</td>\n",
       "      <td>0</td>\n",
       "      <td>0</td>\n",
       "      <td>...</td>\n",
       "      <td>0</td>\n",
       "      <td>0</td>\n",
       "      <td>0</td>\n",
       "      <td>0</td>\n",
       "      <td>0</td>\n",
       "      <td>0</td>\n",
       "      <td>0</td>\n",
       "      <td>0</td>\n",
       "      <td>0</td>\n",
       "      <td>0</td>\n",
       "    </tr>\n",
       "    <tr>\n",
       "      <th>--harley--quinn--</th>\n",
       "      <td>0</td>\n",
       "      <td>0</td>\n",
       "      <td>0</td>\n",
       "      <td>0</td>\n",
       "      <td>0</td>\n",
       "      <td>0</td>\n",
       "      <td>0</td>\n",
       "      <td>0</td>\n",
       "      <td>0</td>\n",
       "      <td>0</td>\n",
       "      <td>...</td>\n",
       "      <td>0</td>\n",
       "      <td>0</td>\n",
       "      <td>0</td>\n",
       "      <td>0</td>\n",
       "      <td>0</td>\n",
       "      <td>0</td>\n",
       "      <td>0</td>\n",
       "      <td>0</td>\n",
       "      <td>0</td>\n",
       "      <td>0</td>\n",
       "    </tr>\n",
       "    <tr>\n",
       "      <th>-A-p-r-i-l-</th>\n",
       "      <td>0</td>\n",
       "      <td>0</td>\n",
       "      <td>0</td>\n",
       "      <td>0</td>\n",
       "      <td>0</td>\n",
       "      <td>0</td>\n",
       "      <td>0</td>\n",
       "      <td>0</td>\n",
       "      <td>0</td>\n",
       "      <td>0</td>\n",
       "      <td>...</td>\n",
       "      <td>0</td>\n",
       "      <td>0</td>\n",
       "      <td>0</td>\n",
       "      <td>0</td>\n",
       "      <td>0</td>\n",
       "      <td>0</td>\n",
       "      <td>0</td>\n",
       "      <td>0</td>\n",
       "      <td>0</td>\n",
       "      <td>0</td>\n",
       "    </tr>\n",
       "  </tbody>\n",
       "</table>\n",
       "<p>5 rows × 34967 columns</p>\n",
       "</div>"
      ],
      "text/plain": [
       "                  weight                                               \\\n",
       "subreddit            007 065_082_071 0ad 0x10c 0x3642 1000degreeknife   \n",
       "username                                                                \n",
       "--ANUSTART-            0           0   0     0      0               0   \n",
       "--Sko--                0           0   0     0      0               0   \n",
       "--UNKN0WN--            0           0   0     0      0               0   \n",
       "--harley--quinn--      0           0   0     0      0               0   \n",
       "-A-p-r-i-l-            0           0   0     0      0               0   \n",
       "\n",
       "                                                                          \\\n",
       "subreddit         1000thworldproblems 100DayComicChallenge 100DaysofKeto   \n",
       "username                                                                   \n",
       "--ANUSTART-                         0                    0             0   \n",
       "--Sko--                             0                    0             0   \n",
       "--UNKN0WN--                         0                    0             0   \n",
       "--harley--quinn--                   0                    0             0   \n",
       "-A-p-r-i-l-                         0                    0             0   \n",
       "\n",
       "                         ...                                            \\\n",
       "subreddit         100kin ... zorinos zsh zumba zurich zwave zweiteliga   \n",
       "username                 ...                                             \n",
       "--ANUSTART-            0 ...       0   0     0      0     0          0   \n",
       "--Sko--                0 ...       0   0     0      0     0          0   \n",
       "--UNKN0WN--            0 ...       0   0     0      0     0          0   \n",
       "--harley--quinn--      0 ...       0   0     0      0     0          0   \n",
       "-A-p-r-i-l-            0 ...       0   0     0      0     0          0   \n",
       "\n",
       "                                                 \n",
       "subreddit         zxspectrum zyramains zyzz zzt  \n",
       "username                                         \n",
       "--ANUSTART-                0         0    0   0  \n",
       "--Sko--                    0         0    0   0  \n",
       "--UNKN0WN--                0         0    0   0  \n",
       "--harley--quinn--          0         0    0   0  \n",
       "-A-p-r-i-l-                0         0    0   0  \n",
       "\n",
       "[5 rows x 34967 columns]"
      ]
     },
     "execution_count": 17,
     "metadata": {},
     "output_type": "execute_result"
    }
   ],
   "source": [
    "user_similarity_vectors.fillna(0, inplace = True)\n",
    "user_similarity_vectors.head()"
   ]
  },
  {
   "cell_type": "markdown",
   "metadata": {},
   "source": [
    "# Creating a dataframe to get the similarities between every users.\n",
    "Cosine similarity is used to compute the similarities between every user"
   ]
  },
  {
   "cell_type": "code",
   "execution_count": 19,
   "metadata": {
    "collapsed": true
   },
   "outputs": [],
   "source": [
    "users = data['username'].unique()"
   ]
  },
  {
   "cell_type": "code",
   "execution_count": 20,
   "metadata": {
    "collapsed": true
   },
   "outputs": [],
   "source": [
    "similarity = pd.DataFrame(cosine_similarity(user_similarity_vectors), index = users, columns = users)"
   ]
  },
  {
   "cell_type": "code",
   "execution_count": 21,
   "metadata": {},
   "outputs": [
    {
     "data": {
      "text/html": [
       "<div>\n",
       "<table border=\"1\" class=\"dataframe\">\n",
       "  <thead>\n",
       "    <tr style=\"text-align: right;\">\n",
       "      <th></th>\n",
       "      <th>kabanossi</th>\n",
       "      <th>MahatmaGuru</th>\n",
       "      <th>Drums_And_Dreams</th>\n",
       "      <th>Dockhead</th>\n",
       "      <th>bob-leblaw</th>\n",
       "      <th>Very_High_IQ_Yes</th>\n",
       "      <th>CarnationsPls</th>\n",
       "      <th>414D59</th>\n",
       "      <th>Rankscar</th>\n",
       "      <th>thelonghauls</th>\n",
       "      <th>...</th>\n",
       "      <th>anz_cheer_up</th>\n",
       "      <th>SaiyanOfDarkness</th>\n",
       "      <th>Konzti</th>\n",
       "      <th>need_a_nick</th>\n",
       "      <th>sk3pt1c</th>\n",
       "      <th>theseconddennis</th>\n",
       "      <th>Insolent_redneck</th>\n",
       "      <th>Least_ValuablePlayer</th>\n",
       "      <th>applebrush</th>\n",
       "      <th>RushNY</th>\n",
       "    </tr>\n",
       "  </thead>\n",
       "  <tbody>\n",
       "    <tr>\n",
       "      <th>kabanossi</th>\n",
       "      <td>1.000000</td>\n",
       "      <td>0.000184</td>\n",
       "      <td>0</td>\n",
       "      <td>0.014229</td>\n",
       "      <td>0.032780</td>\n",
       "      <td>0.005180</td>\n",
       "      <td>0.016461</td>\n",
       "      <td>0.096339</td>\n",
       "      <td>0.001305</td>\n",
       "      <td>0.024663</td>\n",
       "      <td>...</td>\n",
       "      <td>0.003963</td>\n",
       "      <td>0.040275</td>\n",
       "      <td>0.096222</td>\n",
       "      <td>0.001477</td>\n",
       "      <td>0.000192</td>\n",
       "      <td>0.116619</td>\n",
       "      <td>0.030743</td>\n",
       "      <td>0</td>\n",
       "      <td>0</td>\n",
       "      <td>0.041362</td>\n",
       "    </tr>\n",
       "    <tr>\n",
       "      <th>MahatmaGuru</th>\n",
       "      <td>0.000184</td>\n",
       "      <td>1.000000</td>\n",
       "      <td>0</td>\n",
       "      <td>0.000513</td>\n",
       "      <td>0.000000</td>\n",
       "      <td>0.000000</td>\n",
       "      <td>0.000220</td>\n",
       "      <td>0.000065</td>\n",
       "      <td>0.000089</td>\n",
       "      <td>0.000000</td>\n",
       "      <td>...</td>\n",
       "      <td>0.000314</td>\n",
       "      <td>0.000104</td>\n",
       "      <td>0.000261</td>\n",
       "      <td>0.000134</td>\n",
       "      <td>0.000000</td>\n",
       "      <td>0.000268</td>\n",
       "      <td>0.000220</td>\n",
       "      <td>0</td>\n",
       "      <td>0</td>\n",
       "      <td>0.000134</td>\n",
       "    </tr>\n",
       "    <tr>\n",
       "      <th>Drums_And_Dreams</th>\n",
       "      <td>0.000000</td>\n",
       "      <td>0.000000</td>\n",
       "      <td>1</td>\n",
       "      <td>0.000000</td>\n",
       "      <td>0.000000</td>\n",
       "      <td>0.000000</td>\n",
       "      <td>0.000000</td>\n",
       "      <td>0.000000</td>\n",
       "      <td>0.000000</td>\n",
       "      <td>0.000000</td>\n",
       "      <td>...</td>\n",
       "      <td>0.000000</td>\n",
       "      <td>0.000000</td>\n",
       "      <td>0.000138</td>\n",
       "      <td>0.000000</td>\n",
       "      <td>0.000000</td>\n",
       "      <td>0.000000</td>\n",
       "      <td>0.000000</td>\n",
       "      <td>0</td>\n",
       "      <td>0</td>\n",
       "      <td>0.000000</td>\n",
       "    </tr>\n",
       "    <tr>\n",
       "      <th>Dockhead</th>\n",
       "      <td>0.014229</td>\n",
       "      <td>0.000513</td>\n",
       "      <td>0</td>\n",
       "      <td>1.000000</td>\n",
       "      <td>0.030783</td>\n",
       "      <td>0.004601</td>\n",
       "      <td>0.017460</td>\n",
       "      <td>0.090900</td>\n",
       "      <td>0.003564</td>\n",
       "      <td>0.002529</td>\n",
       "      <td>...</td>\n",
       "      <td>0.004708</td>\n",
       "      <td>0.031422</td>\n",
       "      <td>0.087542</td>\n",
       "      <td>0.001025</td>\n",
       "      <td>0.000000</td>\n",
       "      <td>0.103833</td>\n",
       "      <td>0.015314</td>\n",
       "      <td>0</td>\n",
       "      <td>0</td>\n",
       "      <td>0.039760</td>\n",
       "    </tr>\n",
       "    <tr>\n",
       "      <th>bob-leblaw</th>\n",
       "      <td>0.032780</td>\n",
       "      <td>0.000000</td>\n",
       "      <td>0</td>\n",
       "      <td>0.030783</td>\n",
       "      <td>1.000000</td>\n",
       "      <td>0.014086</td>\n",
       "      <td>0.015896</td>\n",
       "      <td>0.286398</td>\n",
       "      <td>0.000000</td>\n",
       "      <td>0.006027</td>\n",
       "      <td>...</td>\n",
       "      <td>0.000000</td>\n",
       "      <td>0.093193</td>\n",
       "      <td>0.253691</td>\n",
       "      <td>0.001096</td>\n",
       "      <td>0.000000</td>\n",
       "      <td>0.308240</td>\n",
       "      <td>0.045567</td>\n",
       "      <td>0</td>\n",
       "      <td>0</td>\n",
       "      <td>0.121497</td>\n",
       "    </tr>\n",
       "  </tbody>\n",
       "</table>\n",
       "<p>5 rows × 22610 columns</p>\n",
       "</div>"
      ],
      "text/plain": [
       "                  kabanossi  MahatmaGuru  Drums_And_Dreams  Dockhead  \\\n",
       "kabanossi          1.000000     0.000184                 0  0.014229   \n",
       "MahatmaGuru        0.000184     1.000000                 0  0.000513   \n",
       "Drums_And_Dreams   0.000000     0.000000                 1  0.000000   \n",
       "Dockhead           0.014229     0.000513                 0  1.000000   \n",
       "bob-leblaw         0.032780     0.000000                 0  0.030783   \n",
       "\n",
       "                  bob-leblaw  Very_High_IQ_Yes  CarnationsPls    414D59  \\\n",
       "kabanossi           0.032780          0.005180       0.016461  0.096339   \n",
       "MahatmaGuru         0.000000          0.000000       0.000220  0.000065   \n",
       "Drums_And_Dreams    0.000000          0.000000       0.000000  0.000000   \n",
       "Dockhead            0.030783          0.004601       0.017460  0.090900   \n",
       "bob-leblaw          1.000000          0.014086       0.015896  0.286398   \n",
       "\n",
       "                  Rankscar  thelonghauls    ...     anz_cheer_up  \\\n",
       "kabanossi         0.001305      0.024663    ...         0.003963   \n",
       "MahatmaGuru       0.000089      0.000000    ...         0.000314   \n",
       "Drums_And_Dreams  0.000000      0.000000    ...         0.000000   \n",
       "Dockhead          0.003564      0.002529    ...         0.004708   \n",
       "bob-leblaw        0.000000      0.006027    ...         0.000000   \n",
       "\n",
       "                  SaiyanOfDarkness    Konzti  need_a_nick   sk3pt1c  \\\n",
       "kabanossi                 0.040275  0.096222     0.001477  0.000192   \n",
       "MahatmaGuru               0.000104  0.000261     0.000134  0.000000   \n",
       "Drums_And_Dreams          0.000000  0.000138     0.000000  0.000000   \n",
       "Dockhead                  0.031422  0.087542     0.001025  0.000000   \n",
       "bob-leblaw                0.093193  0.253691     0.001096  0.000000   \n",
       "\n",
       "                  theseconddennis  Insolent_redneck  Least_ValuablePlayer  \\\n",
       "kabanossi                0.116619          0.030743                     0   \n",
       "MahatmaGuru              0.000268          0.000220                     0   \n",
       "Drums_And_Dreams         0.000000          0.000000                     0   \n",
       "Dockhead                 0.103833          0.015314                     0   \n",
       "bob-leblaw               0.308240          0.045567                     0   \n",
       "\n",
       "                  applebrush    RushNY  \n",
       "kabanossi                  0  0.041362  \n",
       "MahatmaGuru                0  0.000134  \n",
       "Drums_And_Dreams           0  0.000000  \n",
       "Dockhead                   0  0.039760  \n",
       "bob-leblaw                 0  0.121497  \n",
       "\n",
       "[5 rows x 22610 columns]"
      ]
     },
     "execution_count": 21,
     "metadata": {},
     "output_type": "execute_result"
    }
   ],
   "source": [
    "similarity.head()"
   ]
  },
  {
   "cell_type": "code",
   "execution_count": 22,
   "metadata": {
    "collapsed": true
   },
   "outputs": [],
   "source": [
    "np.fill_diagonal(similarity.values,0)"
   ]
  },
  {
   "cell_type": "code",
   "execution_count": 23,
   "metadata": {},
   "outputs": [
    {
     "data": {
      "text/html": [
       "<div>\n",
       "<table border=\"1\" class=\"dataframe\">\n",
       "  <thead>\n",
       "    <tr style=\"text-align: right;\">\n",
       "      <th></th>\n",
       "      <th>kabanossi</th>\n",
       "      <th>MahatmaGuru</th>\n",
       "      <th>Drums_And_Dreams</th>\n",
       "      <th>Dockhead</th>\n",
       "      <th>bob-leblaw</th>\n",
       "      <th>Very_High_IQ_Yes</th>\n",
       "      <th>CarnationsPls</th>\n",
       "      <th>414D59</th>\n",
       "      <th>Rankscar</th>\n",
       "      <th>thelonghauls</th>\n",
       "      <th>...</th>\n",
       "      <th>anz_cheer_up</th>\n",
       "      <th>SaiyanOfDarkness</th>\n",
       "      <th>Konzti</th>\n",
       "      <th>need_a_nick</th>\n",
       "      <th>sk3pt1c</th>\n",
       "      <th>theseconddennis</th>\n",
       "      <th>Insolent_redneck</th>\n",
       "      <th>Least_ValuablePlayer</th>\n",
       "      <th>applebrush</th>\n",
       "      <th>RushNY</th>\n",
       "    </tr>\n",
       "  </thead>\n",
       "  <tbody>\n",
       "    <tr>\n",
       "      <th>kabanossi</th>\n",
       "      <td>0.000000</td>\n",
       "      <td>0.000184</td>\n",
       "      <td>0</td>\n",
       "      <td>0.014229</td>\n",
       "      <td>0.032780</td>\n",
       "      <td>0.005180</td>\n",
       "      <td>0.016461</td>\n",
       "      <td>0.096339</td>\n",
       "      <td>0.001305</td>\n",
       "      <td>0.024663</td>\n",
       "      <td>...</td>\n",
       "      <td>0.003963</td>\n",
       "      <td>0.040275</td>\n",
       "      <td>0.096222</td>\n",
       "      <td>0.001477</td>\n",
       "      <td>0.000192</td>\n",
       "      <td>0.116619</td>\n",
       "      <td>0.030743</td>\n",
       "      <td>0</td>\n",
       "      <td>0</td>\n",
       "      <td>0.041362</td>\n",
       "    </tr>\n",
       "    <tr>\n",
       "      <th>MahatmaGuru</th>\n",
       "      <td>0.000184</td>\n",
       "      <td>0.000000</td>\n",
       "      <td>0</td>\n",
       "      <td>0.000513</td>\n",
       "      <td>0.000000</td>\n",
       "      <td>0.000000</td>\n",
       "      <td>0.000220</td>\n",
       "      <td>0.000065</td>\n",
       "      <td>0.000089</td>\n",
       "      <td>0.000000</td>\n",
       "      <td>...</td>\n",
       "      <td>0.000314</td>\n",
       "      <td>0.000104</td>\n",
       "      <td>0.000261</td>\n",
       "      <td>0.000134</td>\n",
       "      <td>0.000000</td>\n",
       "      <td>0.000268</td>\n",
       "      <td>0.000220</td>\n",
       "      <td>0</td>\n",
       "      <td>0</td>\n",
       "      <td>0.000134</td>\n",
       "    </tr>\n",
       "    <tr>\n",
       "      <th>Drums_And_Dreams</th>\n",
       "      <td>0.000000</td>\n",
       "      <td>0.000000</td>\n",
       "      <td>0</td>\n",
       "      <td>0.000000</td>\n",
       "      <td>0.000000</td>\n",
       "      <td>0.000000</td>\n",
       "      <td>0.000000</td>\n",
       "      <td>0.000000</td>\n",
       "      <td>0.000000</td>\n",
       "      <td>0.000000</td>\n",
       "      <td>...</td>\n",
       "      <td>0.000000</td>\n",
       "      <td>0.000000</td>\n",
       "      <td>0.000138</td>\n",
       "      <td>0.000000</td>\n",
       "      <td>0.000000</td>\n",
       "      <td>0.000000</td>\n",
       "      <td>0.000000</td>\n",
       "      <td>0</td>\n",
       "      <td>0</td>\n",
       "      <td>0.000000</td>\n",
       "    </tr>\n",
       "    <tr>\n",
       "      <th>Dockhead</th>\n",
       "      <td>0.014229</td>\n",
       "      <td>0.000513</td>\n",
       "      <td>0</td>\n",
       "      <td>0.000000</td>\n",
       "      <td>0.030783</td>\n",
       "      <td>0.004601</td>\n",
       "      <td>0.017460</td>\n",
       "      <td>0.090900</td>\n",
       "      <td>0.003564</td>\n",
       "      <td>0.002529</td>\n",
       "      <td>...</td>\n",
       "      <td>0.004708</td>\n",
       "      <td>0.031422</td>\n",
       "      <td>0.087542</td>\n",
       "      <td>0.001025</td>\n",
       "      <td>0.000000</td>\n",
       "      <td>0.103833</td>\n",
       "      <td>0.015314</td>\n",
       "      <td>0</td>\n",
       "      <td>0</td>\n",
       "      <td>0.039760</td>\n",
       "    </tr>\n",
       "    <tr>\n",
       "      <th>bob-leblaw</th>\n",
       "      <td>0.032780</td>\n",
       "      <td>0.000000</td>\n",
       "      <td>0</td>\n",
       "      <td>0.030783</td>\n",
       "      <td>0.000000</td>\n",
       "      <td>0.014086</td>\n",
       "      <td>0.015896</td>\n",
       "      <td>0.286398</td>\n",
       "      <td>0.000000</td>\n",
       "      <td>0.006027</td>\n",
       "      <td>...</td>\n",
       "      <td>0.000000</td>\n",
       "      <td>0.093193</td>\n",
       "      <td>0.253691</td>\n",
       "      <td>0.001096</td>\n",
       "      <td>0.000000</td>\n",
       "      <td>0.308240</td>\n",
       "      <td>0.045567</td>\n",
       "      <td>0</td>\n",
       "      <td>0</td>\n",
       "      <td>0.121497</td>\n",
       "    </tr>\n",
       "  </tbody>\n",
       "</table>\n",
       "<p>5 rows × 22610 columns</p>\n",
       "</div>"
      ],
      "text/plain": [
       "                  kabanossi  MahatmaGuru  Drums_And_Dreams  Dockhead  \\\n",
       "kabanossi          0.000000     0.000184                 0  0.014229   \n",
       "MahatmaGuru        0.000184     0.000000                 0  0.000513   \n",
       "Drums_And_Dreams   0.000000     0.000000                 0  0.000000   \n",
       "Dockhead           0.014229     0.000513                 0  0.000000   \n",
       "bob-leblaw         0.032780     0.000000                 0  0.030783   \n",
       "\n",
       "                  bob-leblaw  Very_High_IQ_Yes  CarnationsPls    414D59  \\\n",
       "kabanossi           0.032780          0.005180       0.016461  0.096339   \n",
       "MahatmaGuru         0.000000          0.000000       0.000220  0.000065   \n",
       "Drums_And_Dreams    0.000000          0.000000       0.000000  0.000000   \n",
       "Dockhead            0.030783          0.004601       0.017460  0.090900   \n",
       "bob-leblaw          0.000000          0.014086       0.015896  0.286398   \n",
       "\n",
       "                  Rankscar  thelonghauls    ...     anz_cheer_up  \\\n",
       "kabanossi         0.001305      0.024663    ...         0.003963   \n",
       "MahatmaGuru       0.000089      0.000000    ...         0.000314   \n",
       "Drums_And_Dreams  0.000000      0.000000    ...         0.000000   \n",
       "Dockhead          0.003564      0.002529    ...         0.004708   \n",
       "bob-leblaw        0.000000      0.006027    ...         0.000000   \n",
       "\n",
       "                  SaiyanOfDarkness    Konzti  need_a_nick   sk3pt1c  \\\n",
       "kabanossi                 0.040275  0.096222     0.001477  0.000192   \n",
       "MahatmaGuru               0.000104  0.000261     0.000134  0.000000   \n",
       "Drums_And_Dreams          0.000000  0.000138     0.000000  0.000000   \n",
       "Dockhead                  0.031422  0.087542     0.001025  0.000000   \n",
       "bob-leblaw                0.093193  0.253691     0.001096  0.000000   \n",
       "\n",
       "                  theseconddennis  Insolent_redneck  Least_ValuablePlayer  \\\n",
       "kabanossi                0.116619          0.030743                     0   \n",
       "MahatmaGuru              0.000268          0.000220                     0   \n",
       "Drums_And_Dreams         0.000000          0.000000                     0   \n",
       "Dockhead                 0.103833          0.015314                     0   \n",
       "bob-leblaw               0.308240          0.045567                     0   \n",
       "\n",
       "                  applebrush    RushNY  \n",
       "kabanossi                  0  0.041362  \n",
       "MahatmaGuru                0  0.000134  \n",
       "Drums_And_Dreams           0  0.000000  \n",
       "Dockhead                   0  0.039760  \n",
       "bob-leblaw                 0  0.121497  \n",
       "\n",
       "[5 rows x 22610 columns]"
      ]
     },
     "execution_count": 23,
     "metadata": {},
     "output_type": "execute_result"
    }
   ],
   "source": [
    "similarity.head()"
   ]
  },
  {
   "cell_type": "markdown",
   "metadata": {},
   "source": [
    "# Creating a dataframe having the most similar user for each user to avoid computing it repetitively\n",
    "This enables us to easily access the most similar user for any particular user.\n",
    "This makes it computationally cheap as the similarity function and the most similar user matrix can be updated periodically."
   ]
  },
  {
   "cell_type": "code",
   "execution_count": 24,
   "metadata": {
    "collapsed": true
   },
   "outputs": [],
   "source": [
    "user_user = pd.DataFrame(similarity.idxmax(axis = 1), index = similarity.index)"
   ]
  },
  {
   "cell_type": "code",
   "execution_count": 25,
   "metadata": {},
   "outputs": [
    {
     "data": {
      "text/html": [
       "<div>\n",
       "<table border=\"1\" class=\"dataframe\">\n",
       "  <thead>\n",
       "    <tr style=\"text-align: right;\">\n",
       "      <th></th>\n",
       "      <th>0</th>\n",
       "    </tr>\n",
       "  </thead>\n",
       "  <tbody>\n",
       "    <tr>\n",
       "      <th>kabanossi</th>\n",
       "      <td>alexyct</td>\n",
       "    </tr>\n",
       "    <tr>\n",
       "      <th>MahatmaGuru</th>\n",
       "      <td>SlapDa</td>\n",
       "    </tr>\n",
       "    <tr>\n",
       "      <th>Drums_And_Dreams</th>\n",
       "      <td>nitotheblue</td>\n",
       "    </tr>\n",
       "    <tr>\n",
       "      <th>Dockhead</th>\n",
       "      <td>torahking</td>\n",
       "    </tr>\n",
       "    <tr>\n",
       "      <th>bob-leblaw</th>\n",
       "      <td>SandraSimmons001</td>\n",
       "    </tr>\n",
       "  </tbody>\n",
       "</table>\n",
       "</div>"
      ],
      "text/plain": [
       "                                 0\n",
       "kabanossi                  alexyct\n",
       "MahatmaGuru                 SlapDa\n",
       "Drums_And_Dreams       nitotheblue\n",
       "Dockhead                 torahking\n",
       "bob-leblaw        SandraSimmons001"
      ]
     },
     "execution_count": 25,
     "metadata": {},
     "output_type": "execute_result"
    }
   ],
   "source": [
    "user_user.head()"
   ]
  },
  {
   "cell_type": "markdown",
   "metadata": {},
   "source": [
    "# We create a dataframe consisting of the most searched subreddits from the previous month\n",
    "We get the most recent trends through this."
   ]
  },
  {
   "cell_type": "code",
   "execution_count": 26,
   "metadata": {},
   "outputs": [
    {
     "name": "stderr",
     "output_type": "stream",
     "text": [
      "/usr/local/src/bluemix_jupyter_bundle.v59/notebook/lib/python2.7/site-packages/ipykernel/__main__.py:5: SettingWithCopyWarning: \n",
      "A value is trying to be set on a copy of a slice from a DataFrame\n",
      "\n",
      "See the caveats in the documentation: http://pandas.pydata.org/pandas-docs/stable/indexing.html#indexing-view-versus-copy\n"
     ]
    }
   ],
   "source": [
    "data['year'] = data['date'].apply(lambda x: x.year)\n",
    "data['month'] = data['date'].apply(lambda x: x.month)\n",
    "last_month_data = data[(data['year'] == 2016) & (data['month'] == 12)]\n",
    "data.drop(['year', 'month'], axis = 1, inplace = True)\n",
    "last_month_data.drop(['date', 'year', 'month'], axis = 1, inplace = True)"
   ]
  },
  {
   "cell_type": "code",
   "execution_count": 27,
   "metadata": {
    "collapsed": true
   },
   "outputs": [],
   "source": [
    "recent_top_10 = last_month_data.groupby('subreddit')['weight'].sum().sort_values()[:10]"
   ]
  },
  {
   "cell_type": "markdown",
   "metadata": {},
   "source": [
    "# Function used for recommendation\n",
    "We use three information domains from the available data\n",
    "1. User history\n",
    "2. Similar user's history\n",
    "3. Recent trends"
   ]
  },
  {
   "cell_type": "code",
   "execution_count": 28,
   "metadata": {
    "collapsed": true,
    "scrolled": true
   },
   "outputs": [],
   "source": [
    "def recommend(username):\n",
    "    if username in users:\n",
    "        if users_subreddits.xs((username,)).shape[0] >= 4:\n",
    "            recommendations = set(users_subreddits.xs((username,)).sort_values(by= 'weight', ascending = False)[:4].index)\n",
    "            similar_top_5 = set(users_subreddits.xs((user_user.loc[username][0], )).sort_values(by= 'weight', ascending = False)[:5].index)\n",
    "            recommendations = recommendations.union(similar_top_5)\n",
    "            recommendations = recommendations.union(recent_top_10[:10 - len(recommendations)].index)\n",
    "            return pd.Series(list(recommendations))\n",
    "        else:\n",
    "            recommendations = set(users_subreddits.xs((username,)).sort_values(by= 'weight', ascending = False).index)\n",
    "            similar_top_5 = set(users_subreddits.xs((user_user.loc[username][0], )).sort_values(by= 'weight', ascending = False)[:5].index)\n",
    "            recommendations = recommendations.union(similar_top_5)\n",
    "            recommendations = recommendations.union(recent_top_10[:10 - len(recommendations)].index)\n",
    "            return pd.Series(list(recommendations))\n",
    "    else:\n",
    "        return pd.Series(recent_top_10.index)"
   ]
  },
  {
   "cell_type": "code",
   "execution_count": 29,
   "metadata": {
    "collapsed": true
   },
   "outputs": [],
   "source": [
    "solution_df = pd.DataFrame(index = users, columns = range(0,10))"
   ]
  },
  {
   "cell_type": "code",
   "execution_count": 30,
   "metadata": {
    "collapsed": true
   },
   "outputs": [],
   "source": [
    "solution_df = pd.Series(list(users)).apply(lambda x : recommend(x))\n",
    "solution_df.index = list(users)"
   ]
  },
  {
   "cell_type": "code",
   "execution_count": 31,
   "metadata": {
    "scrolled": true
   },
   "outputs": [
    {
     "data": {
      "text/html": [
       "<div>\n",
       "<table border=\"1\" class=\"dataframe\">\n",
       "  <thead>\n",
       "    <tr style=\"text-align: right;\">\n",
       "      <th></th>\n",
       "      <th>0</th>\n",
       "      <th>1</th>\n",
       "      <th>2</th>\n",
       "      <th>3</th>\n",
       "      <th>4</th>\n",
       "      <th>5</th>\n",
       "      <th>6</th>\n",
       "      <th>7</th>\n",
       "      <th>8</th>\n",
       "      <th>9</th>\n",
       "    </tr>\n",
       "  </thead>\n",
       "  <tbody>\n",
       "    <tr>\n",
       "      <th>kabanossi</th>\n",
       "      <td>Chasers</td>\n",
       "      <td>photoshopbattles</td>\n",
       "      <td>cratedigging</td>\n",
       "      <td>uniformporn</td>\n",
       "      <td>Deformed</td>\n",
       "      <td>paraballs</td>\n",
       "      <td>sysadmin</td>\n",
       "      <td>homelab</td>\n",
       "      <td>techsupport</td>\n",
       "      <td>GetMotivated</td>\n",
       "    </tr>\n",
       "    <tr>\n",
       "      <th>MahatmaGuru</th>\n",
       "      <td>cratedigging</td>\n",
       "      <td>todayilearned</td>\n",
       "      <td>self</td>\n",
       "      <td>RecruitCS</td>\n",
       "      <td>guns</td>\n",
       "      <td>Jokes</td>\n",
       "      <td>AskReddit</td>\n",
       "      <td>news</td>\n",
       "      <td>OverwatchLFT</td>\n",
       "      <td>GetMotivated</td>\n",
       "    </tr>\n",
       "    <tr>\n",
       "      <th>Drums_And_Dreams</th>\n",
       "      <td>funny</td>\n",
       "      <td>brasil</td>\n",
       "      <td>cratedigging</td>\n",
       "      <td>AskReddit</td>\n",
       "      <td>pics</td>\n",
       "      <td>PoliticalDiscussion</td>\n",
       "      <td>DIY</td>\n",
       "      <td>TwoXChromosomes</td>\n",
       "      <td>politics</td>\n",
       "      <td>The_Donald</td>\n",
       "    </tr>\n",
       "    <tr>\n",
       "      <th>Dockhead</th>\n",
       "      <td>Chasers</td>\n",
       "      <td>food</td>\n",
       "      <td>AskReddit</td>\n",
       "      <td>Deformed</td>\n",
       "      <td>cratedigging</td>\n",
       "      <td>worldnews</td>\n",
       "      <td>news</td>\n",
       "      <td>explainlikeimfive</td>\n",
       "      <td>paraballs</td>\n",
       "      <td>trees</td>\n",
       "    </tr>\n",
       "    <tr>\n",
       "      <th>bob-leblaw</th>\n",
       "      <td>Chasers</td>\n",
       "      <td>cratedigging</td>\n",
       "      <td>DoesAnybodyElse</td>\n",
       "      <td>todayilearned</td>\n",
       "      <td>AskReddit</td>\n",
       "      <td>Showerthoughts</td>\n",
       "      <td>acting</td>\n",
       "      <td>DaniellaMonet</td>\n",
       "      <td>shockwaveporn</td>\n",
       "      <td>canucks</td>\n",
       "    </tr>\n",
       "  </tbody>\n",
       "</table>\n",
       "</div>"
      ],
      "text/plain": [
       "                             0                 1                2  \\\n",
       "kabanossi              Chasers  photoshopbattles     cratedigging   \n",
       "MahatmaGuru       cratedigging     todayilearned             self   \n",
       "Drums_And_Dreams         funny            brasil     cratedigging   \n",
       "Dockhead               Chasers              food        AskReddit   \n",
       "bob-leblaw             Chasers      cratedigging  DoesAnybodyElse   \n",
       "\n",
       "                              3             4                    5          6  \\\n",
       "kabanossi           uniformporn      Deformed            paraballs   sysadmin   \n",
       "MahatmaGuru           RecruitCS          guns                Jokes  AskReddit   \n",
       "Drums_And_Dreams      AskReddit          pics  PoliticalDiscussion        DIY   \n",
       "Dockhead               Deformed  cratedigging            worldnews       news   \n",
       "bob-leblaw        todayilearned     AskReddit       Showerthoughts     acting   \n",
       "\n",
       "                                  7              8             9  \n",
       "kabanossi                   homelab    techsupport  GetMotivated  \n",
       "MahatmaGuru                    news   OverwatchLFT  GetMotivated  \n",
       "Drums_And_Dreams    TwoXChromosomes       politics    The_Donald  \n",
       "Dockhead          explainlikeimfive      paraballs         trees  \n",
       "bob-leblaw            DaniellaMonet  shockwaveporn       canucks  "
      ]
     },
     "execution_count": 31,
     "metadata": {},
     "output_type": "execute_result"
    }
   ],
   "source": [
    "solution_df.head()"
   ]
  },
  {
   "cell_type": "code",
   "execution_count": 32,
   "metadata": {},
   "outputs": [
    {
     "data": {
      "text/plain": [
       "(22610, 10)"
      ]
     },
     "execution_count": 32,
     "metadata": {},
     "output_type": "execute_result"
    }
   ],
   "source": [
    "solution_df.shape"
   ]
  }
 ],
 "metadata": {
  "kernelspec": {
   "display_name": "Python 2 with Spark 2.0",
   "language": "python",
   "name": "python2-spark20"
  },
  "language_info": {
   "codemirror_mode": {
    "name": "ipython",
    "version": 2
   },
   "file_extension": ".py",
   "mimetype": "text/x-python",
   "name": "python",
   "nbconvert_exporter": "python",
   "pygments_lexer": "ipython2",
   "version": "2.7.11"
  }
 },
 "nbformat": 4,
 "nbformat_minor": 1
}
